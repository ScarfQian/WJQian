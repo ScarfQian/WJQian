{
 "cells": [
  {
   "cell_type": "code",
   "execution_count": null,
   "id": "c4f63e46-121c-4069-bd66-6fc895e5204f",
   "metadata": {},
   "outputs": [],
   "source": []
  },
  {
   "cell_type": "code",
   "execution_count": null,
   "id": "eda8df25-11d8-4ec0-97c3-200cae15167e",
   "metadata": {},
   "outputs": [],
   "source": [
    "import pandas as pd"
   ]
  },
  {
   "cell_type": "code",
   "execution_count": 2,
   "id": "afc28f6d-13f2-41bb-9d36-411b09204a08",
   "metadata": {},
   "outputs": [],
   "source": [
    "df=pd.read_csv(\"D:\\\\00系统路径\\\\桌面\\\\2022NTU\\\\DBS_SingDollar.csv\")"
   ]
  },
  {
   "cell_type": "code",
   "execution_count": 3,
   "id": "1ffd69fb-2c56-4bf1-a64d-425348be98eb",
   "metadata": {},
   "outputs": [
    {
     "data": {
      "text/html": [
       "<div>\n",
       "<style scoped>\n",
       "    .dataframe tbody tr th:only-of-type {\n",
       "        vertical-align: middle;\n",
       "    }\n",
       "\n",
       "    .dataframe tbody tr th {\n",
       "        vertical-align: top;\n",
       "    }\n",
       "\n",
       "    .dataframe thead th {\n",
       "        text-align: right;\n",
       "    }\n",
       "</style>\n",
       "<table border=\"1\" class=\"dataframe\">\n",
       "  <thead>\n",
       "    <tr style=\"text-align: right;\">\n",
       "      <th></th>\n",
       "      <th>Unnamed: 0</th>\n",
       "      <th>Date</th>\n",
       "      <th>DBS</th>\n",
       "      <th>SGD</th>\n",
       "    </tr>\n",
       "  </thead>\n",
       "  <tbody>\n",
       "    <tr>\n",
       "      <th>0</th>\n",
       "      <td>1</td>\n",
       "      <td>6/20/2017</td>\n",
       "      <td>20.45</td>\n",
       "      <td>1.38925</td>\n",
       "    </tr>\n",
       "    <tr>\n",
       "      <th>1</th>\n",
       "      <td>2</td>\n",
       "      <td>6/19/2017</td>\n",
       "      <td>20.60</td>\n",
       "      <td>1.38707</td>\n",
       "    </tr>\n",
       "    <tr>\n",
       "      <th>2</th>\n",
       "      <td>3</td>\n",
       "      <td>6/16/2017</td>\n",
       "      <td>20.45</td>\n",
       "      <td>1.38324</td>\n",
       "    </tr>\n",
       "    <tr>\n",
       "      <th>3</th>\n",
       "      <td>4</td>\n",
       "      <td>6/15/2017</td>\n",
       "      <td>20.41</td>\n",
       "      <td>1.38378</td>\n",
       "    </tr>\n",
       "    <tr>\n",
       "      <th>4</th>\n",
       "      <td>5</td>\n",
       "      <td>6/14/2017</td>\n",
       "      <td>20.59</td>\n",
       "      <td>1.37595</td>\n",
       "    </tr>\n",
       "    <tr>\n",
       "      <th>...</th>\n",
       "      <td>...</td>\n",
       "      <td>...</td>\n",
       "      <td>...</td>\n",
       "      <td>...</td>\n",
       "    </tr>\n",
       "    <tr>\n",
       "      <th>117</th>\n",
       "      <td>118</td>\n",
       "      <td>12/30/2016</td>\n",
       "      <td>17.09</td>\n",
       "      <td>1.44655</td>\n",
       "    </tr>\n",
       "    <tr>\n",
       "      <th>118</th>\n",
       "      <td>119</td>\n",
       "      <td>12/29/2016</td>\n",
       "      <td>17.13</td>\n",
       "      <td>1.44814</td>\n",
       "    </tr>\n",
       "    <tr>\n",
       "      <th>119</th>\n",
       "      <td>120</td>\n",
       "      <td>12/28/2016</td>\n",
       "      <td>17.22</td>\n",
       "      <td>1.45018</td>\n",
       "    </tr>\n",
       "    <tr>\n",
       "      <th>120</th>\n",
       "      <td>121</td>\n",
       "      <td>12/27/2016</td>\n",
       "      <td>17.19</td>\n",
       "      <td>1.44954</td>\n",
       "    </tr>\n",
       "    <tr>\n",
       "      <th>121</th>\n",
       "      <td>122</td>\n",
       "      <td>12/23/2016</td>\n",
       "      <td>17.14</td>\n",
       "      <td>1.44766</td>\n",
       "    </tr>\n",
       "  </tbody>\n",
       "</table>\n",
       "<p>122 rows × 4 columns</p>\n",
       "</div>"
      ],
      "text/plain": [
       "     Unnamed: 0        Date    DBS      SGD\n",
       "0             1   6/20/2017  20.45  1.38925\n",
       "1             2   6/19/2017  20.60  1.38707\n",
       "2             3   6/16/2017  20.45  1.38324\n",
       "3             4   6/15/2017  20.41  1.38378\n",
       "4             5   6/14/2017  20.59  1.37595\n",
       "..          ...         ...    ...      ...\n",
       "117         118  12/30/2016  17.09  1.44655\n",
       "118         119  12/29/2016  17.13  1.44814\n",
       "119         120  12/28/2016  17.22  1.45018\n",
       "120         121  12/27/2016  17.19  1.44954\n",
       "121         122  12/23/2016  17.14  1.44766\n",
       "\n",
       "[122 rows x 4 columns]"
      ]
     },
     "execution_count": 3,
     "metadata": {},
     "output_type": "execute_result"
    }
   ],
   "source": [
    "df"
   ]
  },
  {
   "cell_type": "code",
   "execution_count": 4,
   "id": "8de03126-5dd5-46bc-a06c-5222ecc24960",
   "metadata": {},
   "outputs": [],
   "source": [
    "X = df.loc[:, [\"SGD\"]]\n",
    "Y = df.loc[:, [\"DBS\"]]"
   ]
  },
  {
   "cell_type": "code",
   "execution_count": 5,
   "id": "f1748a1e-21d2-4553-8b66-b4830d248089",
   "metadata": {},
   "outputs": [
    {
     "data": {
      "text/plain": [
       "LinearRegression()"
      ]
     },
     "execution_count": 5,
     "metadata": {},
     "output_type": "execute_result"
    }
   ],
   "source": [
    "from sklearn import linear_model\n",
    "model = linear_model.LinearRegression()\n",
    "model.fit(X,Y)"
   ]
  },
  {
   "cell_type": "code",
   "execution_count": 6,
   "id": "0d02c1c6-1a7b-4122-95f0-33f92786450c",
   "metadata": {},
   "outputs": [
    {
     "data": {
      "text/plain": [
       "array([[-50.60094302]])"
      ]
     },
     "execution_count": 6,
     "metadata": {},
     "output_type": "execute_result"
    }
   ],
   "source": [
    "model.coef_"
   ]
  },
  {
   "cell_type": "code",
   "execution_count": 7,
   "id": "2e5cb115-1468-4360-bffb-10d3ae4c9f8e",
   "metadata": {},
   "outputs": [
    {
     "data": {
      "text/plain": [
       "array([90.22858515])"
      ]
     },
     "execution_count": 7,
     "metadata": {},
     "output_type": "execute_result"
    }
   ],
   "source": [
    "model.intercept_"
   ]
  },
  {
   "cell_type": "code",
   "execution_count": 8,
   "id": "9d1bdaed-b0a5-44d5-8a20-2aeb7a4573ea",
   "metadata": {},
   "outputs": [],
   "source": [
    "#DBS = -50.6*SGD + 90.2"
   ]
  },
  {
   "cell_type": "code",
   "execution_count": 9,
   "id": "b6a2062b-0c85-4999-ad2c-358d68d8b41f",
   "metadata": {},
   "outputs": [],
   "source": [
    "pred = model.predict(X)"
   ]
  },
  {
   "cell_type": "code",
   "execution_count": 10,
   "id": "4f1f2ff1-92e2-4e2a-85a0-810c5507b425",
   "metadata": {},
   "outputs": [
    {
     "data": {
      "text/plain": [
       "array([[19.93122506],\n",
       "       [20.04153512],\n",
       "       [20.23533673],\n",
       "       [20.20801222],\n",
       "       [20.6042176 ],\n",
       "       [20.31225016],\n",
       "       [20.18473578],\n",
       "       [20.196374  ],\n",
       "       [20.26266124],\n",
       "       [20.30466002],\n",
       "       [20.43723449],\n",
       "       [20.3198403 ],\n",
       "       [20.3466588 ],\n",
       "       [20.06885962],\n",
       "       [20.23736076],\n",
       "       [20.13109878],\n",
       "       [20.06278751],\n",
       "       [20.36335711],\n",
       "       [20.0784738 ],\n",
       "       [20.17107353],\n",
       "       [19.8958044 ],\n",
       "       [20.07442573],\n",
       "       [20.13464085],\n",
       "       [19.74298955],\n",
       "       [19.90288853],\n",
       "       [19.65342588],\n",
       "       [19.51427329],\n",
       "       [19.18789721],\n",
       "       [19.00978189],\n",
       "       [18.81648629],\n",
       "       [19.08163523],\n",
       "       [19.13628424],\n",
       "       [19.35235027],\n",
       "       [19.52692353],\n",
       "       [19.70149678],\n",
       "       [19.51933338],\n",
       "       [19.53400766],\n",
       "       [19.59068071],\n",
       "       [19.68479847],\n",
       "       [19.76120589],\n",
       "       [19.56183818],\n",
       "       [19.50263507],\n",
       "       [19.47784061],\n",
       "       [19.59776485],\n",
       "       [19.49150286],\n",
       "       [19.48897282],\n",
       "       [19.56285019],\n",
       "       [19.18283711],\n",
       "       [19.1443804 ],\n",
       "       [19.14741645],\n",
       "       [19.28049693],\n",
       "       [19.35336229],\n",
       "       [19.47986465],\n",
       "       [19.53400766],\n",
       "       [19.56993433],\n",
       "       [19.5041531 ],\n",
       "       [19.68732851],\n",
       "       [19.55070597],\n",
       "       [19.69238861],\n",
       "       [19.44545601],\n",
       "       [19.40244521],\n",
       "       [19.4611423 ],\n",
       "       [19.42066154],\n",
       "       [19.54513986],\n",
       "       [19.28555703],\n",
       "       [19.32603778],\n",
       "       [19.27391881],\n",
       "       [18.58169791],\n",
       "       [18.63988899],\n",
       "       [18.79371586],\n",
       "       [18.30845282],\n",
       "       [18.4951703 ],\n",
       "       [18.81294422],\n",
       "       [18.76234328],\n",
       "       [18.86253314],\n",
       "       [18.77347548],\n",
       "       [18.92831437],\n",
       "       [19.13426021],\n",
       "       [19.17018688],\n",
       "       [19.16107871],\n",
       "       [19.00117973],\n",
       "       [18.71781445],\n",
       "       [18.35247564],\n",
       "       [18.47999001],\n",
       "       [18.425341  ],\n",
       "       [18.54779528],\n",
       "       [18.42281095],\n",
       "       [18.37777611],\n",
       "       [18.16474614],\n",
       "       [18.34589751],\n",
       "       [18.34184944],\n",
       "       [18.5437472 ],\n",
       "       [18.44760541],\n",
       "       [18.92325427],\n",
       "       [19.00978189],\n",
       "       [18.81142619],\n",
       "       [18.75778919],\n",
       "       [18.90453193],\n",
       "       [17.77916695],\n",
       "       [18.07720651],\n",
       "       [18.7370428 ],\n",
       "       [18.31604296],\n",
       "       [18.57866185],\n",
       "       [18.01850941],\n",
       "       [18.06354425],\n",
       "       [17.9319818 ],\n",
       "       [18.57714382],\n",
       "       [17.85405635],\n",
       "       [18.07568848],\n",
       "       [18.0068712 ],\n",
       "       [18.03217167],\n",
       "       [17.53830646],\n",
       "       [17.60155764],\n",
       "       [17.39459979],\n",
       "       [17.94665607],\n",
       "       [17.39257575],\n",
       "       [16.86126585],\n",
       "       [17.03179102],\n",
       "       [16.95133553],\n",
       "       [16.8481096 ],\n",
       "       [16.88049421],\n",
       "       [16.97562398]])"
      ]
     },
     "execution_count": 10,
     "metadata": {},
     "output_type": "execute_result"
    }
   ],
   "source": [
    "pred"
   ]
  },
  {
   "cell_type": "code",
   "execution_count": 11,
   "id": "cf2275d2-a3b6-41fe-a33f-fce2d96fa681",
   "metadata": {},
   "outputs": [],
   "source": [
    "from sklearn.metrics import mean_squared_error"
   ]
  },
  {
   "cell_type": "code",
   "execution_count": 12,
   "id": "7083dcf7-39a8-4216-8fcb-dd422cd960d6",
   "metadata": {},
   "outputs": [],
   "source": [
    "rmse = mean_squared_error(Y,pred)**0.5"
   ]
  },
  {
   "cell_type": "code",
   "execution_count": 13,
   "id": "1e61d863-6440-4778-a500-4690885a248c",
   "metadata": {},
   "outputs": [
    {
     "data": {
      "text/plain": [
       "0.6283698867042165"
      ]
     },
     "execution_count": 13,
     "metadata": {},
     "output_type": "execute_result"
    }
   ],
   "source": [
    "rmse"
   ]
  },
  {
   "cell_type": "code",
   "execution_count": 14,
   "id": "6dbd6a45-13c8-44d6-b717-e9e83e43ead8",
   "metadata": {},
   "outputs": [],
   "source": [
    "import joblib"
   ]
  },
  {
   "cell_type": "code",
   "execution_count": 15,
   "id": "18c8e8d7-3767-4703-b673-5ad5e5cd298e",
   "metadata": {},
   "outputs": [
    {
     "data": {
      "text/plain": [
       "['regression']"
      ]
     },
     "execution_count": 15,
     "metadata": {},
     "output_type": "execute_result"
    }
   ],
   "source": [
    "joblib.dump(model,\"regression\")"
   ]
  },
  {
   "cell_type": "code",
   "execution_count": 16,
   "id": "be98cfb5-22b7-4683-b5d9-325f5325beba",
   "metadata": {},
   "outputs": [],
   "source": [
    "from sklearn import tree"
   ]
  },
  {
   "cell_type": "code",
   "execution_count": 17,
   "id": "0c129fa9-b07d-47b8-88d5-2bc619f7e2fb",
   "metadata": {},
   "outputs": [],
   "source": [
    "model = tree.DecisionTreeRegressor()"
   ]
  },
  {
   "cell_type": "code",
   "execution_count": 18,
   "id": "48a4bbf7-8148-43c5-a8f1-43b6dda80d70",
   "metadata": {},
   "outputs": [
    {
     "name": "stdout",
     "output_type": "stream",
     "text": [
      "rmse: 0.16306113708124784\n"
     ]
    }
   ],
   "source": [
    "model.fit(X, Y)\n",
    "pred = model.predict(X)\n",
    "print(\"rmse:\", mean_squared_error(Y,pred) ** 0.5)"
   ]
  },
  {
   "cell_type": "code",
   "execution_count": 19,
   "id": "267fd187-d453-4a5f-a156-5d3185594e2e",
   "metadata": {},
   "outputs": [
    {
     "data": {
      "text/plain": [
       "['tree']"
      ]
     },
     "execution_count": 19,
     "metadata": {},
     "output_type": "execute_result"
    }
   ],
   "source": [
    "joblib.dump(model,\"tree\")"
   ]
  },
  {
   "cell_type": "code",
   "execution_count": 1,
   "id": "4b42a478-0d13-4215-9c6f-b445784ec0ce",
   "metadata": {},
   "outputs": [],
   "source": [
    "import joblib"
   ]
  },
  {
   "cell_type": "code",
   "execution_count": 2,
   "id": "1ef21691-a27f-40ee-983c-601523e6c63f",
   "metadata": {},
   "outputs": [],
   "source": [
    "model = joblib.load(\"regression\")"
   ]
  },
  {
   "cell_type": "code",
   "execution_count": 3,
   "id": "d1bb3225-ab5d-49f4-aafb-336349b2a18c",
   "metadata": {},
   "outputs": [
    {
     "name": "stdout",
     "output_type": "stream",
     "text": [
      "DBS share price predicted is: [[19.89327435]]\n"
     ]
    },
    {
     "name": "stderr",
     "output_type": "stream",
     "text": [
      "D:\\02SoftwareApps\\24Anaconda\\lib\\site-packages\\sklearn\\base.py:450: UserWarning: X does not have valid feature names, but LinearRegression was fitted with feature names\n",
      "  warnings.warn(\n"
     ]
    }
   ],
   "source": [
    "print(\"DBS share price predicted is:\", model.predict([[1.39]]))"
   ]
  },
  {
   "cell_type": "code",
   "execution_count": 4,
   "id": "761c3760-fe22-480e-a329-b1114b21af77",
   "metadata": {},
   "outputs": [],
   "source": [
    "model = joblib.load(\"tree\")"
   ]
  },
  {
   "cell_type": "code",
   "execution_count": 5,
   "id": "09d52933-f608-4a82-9526-4a843baf5894",
   "metadata": {},
   "outputs": [
    {
     "name": "stdout",
     "output_type": "stream",
     "text": [
      "DBS share price predicted is: [21.]\n"
     ]
    },
    {
     "name": "stderr",
     "output_type": "stream",
     "text": [
      "D:\\02SoftwareApps\\24Anaconda\\lib\\site-packages\\sklearn\\base.py:450: UserWarning: X does not have valid feature names, but DecisionTreeRegressor was fitted with feature names\n",
      "  warnings.warn(\n"
     ]
    }
   ],
   "source": [
    "print(\"DBS share price predicted is:\",model.predict([[1.39]]))"
   ]
  },
  {
   "cell_type": "code",
   "execution_count": 1,
   "id": "38c9195b-d9e9-4cae-9b8a-23d55c1079e9",
   "metadata": {},
   "outputs": [],
   "source": [
    "from flask import Flask, request, render_template"
   ]
  },
  {
   "cell_type": "code",
   "execution_count": 2,
   "id": "63f9d957-6113-4598-8ce0-af5eab6c9b20",
   "metadata": {},
   "outputs": [],
   "source": [
    "import joblib"
   ]
  },
  {
   "cell_type": "code",
   "execution_count": 3,
   "id": "a0df3f9c-e14c-4a72-9fe8-a706317ddeed",
   "metadata": {},
   "outputs": [],
   "source": [
    "app = Flask(__name__)"
   ]
  },
  {
   "cell_type": "code",
   "execution_count": 4,
   "id": "bf101245-e8eb-4f3f-83d1-c82d32a52b9a",
   "metadata": {},
   "outputs": [],
   "source": [
    "@app.route(\"/\", methods =[\"GET\",\"POST\"])\n",
    "def index():\n",
    "    if request.method == \"POST\":\n",
    "        rates = float(request.form.get(\"rates\"))\n",
    "        print(rates)\n",
    "        model1 = joblib.load(\"regression\")\n",
    "        r1 = model1.predict([[rates]])\n",
    "        model1 = joblib.load(\"regression\")\n",
    "        r1 = model1.predict([[rates]])\n",
    "        return(render_template(\"index.html\", result1 = r1, result2 = \"OK\"))\n",
    "    else:\n",
    "        return(render_template(\"index.html\", result1 = \"WAITING\", result2 = \"WAITING\"))"
   ]
  },
  {
   "cell_type": "code",
   "execution_count": null,
   "id": "b6d66c07-7484-4e1c-bbce-07d58bfdd7f1",
   "metadata": {},
   "outputs": [
    {
     "name": "stdout",
     "output_type": "stream",
     "text": [
      " * Serving Flask app \"__main__\" (lazy loading)\n",
      " * Environment: production\n",
      "\u001b[31m   WARNING: This is a development server. Do not use it in a production deployment.\u001b[0m\n",
      "\u001b[2m   Use a production WSGI server instead.\u001b[0m\n",
      " * Debug mode: off\n"
     ]
    },
    {
     "name": "stderr",
     "output_type": "stream",
     "text": [
      " * Running on http://127.0.0.1:5000/ (Press CTRL+C to quit)\n"
     ]
    }
   ],
   "source": [
    "http://127.0.0.1:5000/if __name__ == \"__main__\":\n",
    "    app.run()"
   ]
  },
  {
   "cell_type": "code",
   "execution_count": null,
   "id": "03a7df3b-130e-4c55-a0b1-085fc58a0bb6",
   "metadata": {},
   "outputs": [],
   "source": []
  },
  {
   "cell_type": "code",
   "execution_count": null,
   "id": "b8213111-74fb-4283-bfa4-8a605db553f1",
   "metadata": {},
   "outputs": [],
   "source": []
  }
 ],
 "metadata": {
  "kernelspec": {
   "display_name": "Python 3 (ipykernel)",
   "language": "python",
   "name": "python3"
  },
  "language_info": {
   "codemirror_mode": {
    "name": "ipython",
    "version": 3
   },
   "file_extension": ".py",
   "mimetype": "text/x-python",
   "name": "python",
   "nbconvert_exporter": "python",
   "pygments_lexer": "ipython3",
   "version": "3.9.12"
  }
 },
 "nbformat": 4,
 "nbformat_minor": 5
}
